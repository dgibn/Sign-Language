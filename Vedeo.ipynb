{
 "cells": [
  {
   "cell_type": "code",
   "execution_count": 2,
   "id": "f66934f5",
   "metadata": {},
   "outputs": [
    {
     "name": "stderr",
     "output_type": "stream",
     "text": [
      "2023-07-16 21:02:43.606683: I tensorflow/core/platform/cpu_feature_guard.cc:193] This TensorFlow binary is optimized with oneAPI Deep Neural Network Library (oneDNN) to use the following CPU instructions in performance-critical operations:  AVX2 AVX512F AVX512_VNNI FMA\n",
      "To enable them in other operations, rebuild TensorFlow with the appropriate compiler flags.\n",
      "2023-07-16 21:02:43.818992: I tensorflow/core/util/port.cc:104] oneDNN custom operations are on. You may see slightly different numerical results due to floating-point round-off errors from different computation orders. To turn them off, set the environment variable `TF_ENABLE_ONEDNN_OPTS=0`.\n",
      "2023-07-16 21:02:43.858413: W tensorflow/compiler/xla/stream_executor/platform/default/dso_loader.cc:64] Could not load dynamic library 'libcudart.so.11.0'; dlerror: libcudart.so.11.0: cannot open shared object file: No such file or directory; LD_LIBRARY_PATH: /home/divs/.local/lib/python3.10/site-packages/cv2/../../lib64:\n",
      "2023-07-16 21:02:43.858436: I tensorflow/compiler/xla/stream_executor/cuda/cudart_stub.cc:29] Ignore above cudart dlerror if you do not have a GPU set up on your machine.\n",
      "2023-07-16 21:02:44.575552: W tensorflow/compiler/xla/stream_executor/platform/default/dso_loader.cc:64] Could not load dynamic library 'libnvinfer.so.7'; dlerror: libnvinfer.so.7: cannot open shared object file: No such file or directory; LD_LIBRARY_PATH: /home/divs/.local/lib/python3.10/site-packages/cv2/../../lib64:\n",
      "2023-07-16 21:02:44.575610: W tensorflow/compiler/xla/stream_executor/platform/default/dso_loader.cc:64] Could not load dynamic library 'libnvinfer_plugin.so.7'; dlerror: libnvinfer_plugin.so.7: cannot open shared object file: No such file or directory; LD_LIBRARY_PATH: /home/divs/.local/lib/python3.10/site-packages/cv2/../../lib64:\n",
      "2023-07-16 21:02:44.575615: W tensorflow/compiler/tf2tensorrt/utils/py_utils.cc:38] TF-TRT Warning: Cannot dlopen some TensorRT libraries. If you would like to use Nvidia GPU with TensorRT, please make sure the missing libraries mentioned above are installed properly.\n"
     ]
    },
    {
     "name": "stdout",
     "output_type": "stream",
     "text": [
      "/home/divs/Documents/Vedeo\n"
     ]
    }
   ],
   "source": [
    "import cv2\n",
    "import mediapipe as mp\n",
    "import pandas as pd\n",
    "import matplotlib.pyplot as plt\n",
    "import tensorflow as tf\n",
    "from tensorflow import keras\n",
    "from tensorflow.keras.models import Model,Sequential\n",
    "from tensorflow.keras.layers import Dense,Conv2D,Activation,Flatten,MaxPool2D,Dropout,BatchNormalization\n",
    "from sklearn.model_selection import train_test_split\n",
    "import os\n",
    "import numpy as np\n",
    "\n",
    "os.chdir(\"//home//divs//Documents//Vedeo//\")\n",
    "print(os.getcwd())"
   ]
  },
  {
   "cell_type": "code",
   "execution_count": 3,
   "id": "17f1d40e",
   "metadata": {},
   "outputs": [
    {
     "name": "stdout",
     "output_type": "stream",
     "text": [
      "[[[107 118 127 ... 170 170 169]\n",
      "  [111 121 129 ... 171 171 170]\n",
      "  [113 123 131 ... 171 171 171]\n",
      "  ...\n",
      "  [142 150 159 ... 202 201 200]\n",
      "  [142 151 160 ... 204 203 202]\n",
      "  [142 151 160 ... 204 203 202]]\n",
      "\n",
      " [[155 157 156 ... 138  92 108]\n",
      "  [158 159 159 ... 142 116 143]\n",
      "  [161 161 161 ... 147 125 140]\n",
      "  ...\n",
      "  [162 159 145 ...  91 101  94]\n",
      "  [153 139 115 ...  97  95 120]\n",
      "  [135 116  95 ... 103 135 149]]\n",
      "\n",
      " [[187 188 188 ...  66  77  83]\n",
      "  [188 189 189 ...  73  73  71]\n",
      "  [190 190 190 ...  74  68  61]\n",
      "  ...\n",
      "  [212 198 175 ... 195 193 192]\n",
      "  [202 179 152 ... 195 194 193]\n",
      "  [198 166 132 ... 195 194 195]]\n",
      "\n",
      " ...\n",
      "\n",
      " [[174 174 174 ... 160 158 156]\n",
      "  [178 178 177 ... 162 160 158]\n",
      "  [181 180 180 ... 164 162 161]\n",
      "  ...\n",
      "  [215 216 216 ... 201 199 198]\n",
      "  [216 217 217 ... 201 200 198]\n",
      "  [217 217 217 ... 202 200 200]]\n",
      "\n",
      " [[177 181 184 ... 181 179 177]\n",
      "  [179 182 185 ... 183 181 179]\n",
      "  [181 184 187 ... 185 183 182]\n",
      "  ...\n",
      "  [129 132 134 ...  94 102  70]\n",
      "  [131 134 132 ...  78 100  86]\n",
      "  [136 135 135 ...  64  87  93]]\n",
      "\n",
      " [[179 180 180 ...  47  30  39]\n",
      "  [180 182 183 ...  79  24  34]\n",
      "  [184 184 185 ... 115  25  29]\n",
      "  ...\n",
      "  [ 90  94  76 ... 109 150 172]\n",
      "  [ 94  93  89 ... 202 213 215]\n",
      "  [ 96  88 109 ... 205 209 215]]]\n"
     ]
    }
   ],
   "source": [
    "df=pd.read_csv(\"sign_mnist_train.csv\")\n",
    "df1=pd.DataFrame(df)\n",
    "\n",
    "y_train=df1.values[:,:1]\n",
    "x_train=df1.values[:,1:]\n",
    "\n",
    "x_train_new=[]\n",
    "\n",
    "for i in range(len(x_train)):\n",
    "    image=x_train[i]\n",
    "    image=image.reshape(28,28)\n",
    "    x_train_new.append(image)\n",
    "x_train_new=np.array(x_train_new)\n",
    "y_train_new=np.array(y_train)\n",
    "print(x_train_new)"
   ]
  },
  {
   "cell_type": "code",
   "execution_count": null,
   "id": "20fc19c5",
   "metadata": {},
   "outputs": [],
   "source": []
  },
  {
   "cell_type": "code",
   "execution_count": null,
   "id": "39f72450",
   "metadata": {},
   "outputs": [],
   "source": []
  },
  {
   "cell_type": "code",
   "execution_count": null,
   "id": "27576417",
   "metadata": {},
   "outputs": [],
   "source": [
    "cap=cv2.VideoCapture(0)\n",
    "mpHands= mp.solutions.hands\n",
    "hands=mpHands.Hands()\n",
    "mpDraw=mp.solutions.drawing_utils"
   ]
  },
  {
   "cell_type": "code",
   "execution_count": 5,
   "id": "15a357ee",
   "metadata": {},
   "outputs": [
    {
     "name": "stderr",
     "output_type": "stream",
     "text": [
      "Warning: Ignoring XDG_SESSION_TYPE=wayland on Gnome. Use QT_QPA_PLATFORM=wayland to run on Wayland anyway.\n"
     ]
    },
    {
     "ename": "error",
     "evalue": "OpenCV(4.7.0) /io/opencv/modules/imgproc/src/color.cpp:182: error: (-215:Assertion failed) !_src.empty() in function 'cvtColor'\n",
     "output_type": "error",
     "traceback": [
      "\u001b[0;31m---------------------------------------------------------------------------\u001b[0m",
      "\u001b[0;31merror\u001b[0m                                     Traceback (most recent call last)",
      "Cell \u001b[0;32mIn[5], line 3\u001b[0m\n\u001b[1;32m      1\u001b[0m \u001b[38;5;28;01mwhile\u001b[39;00m \u001b[38;5;28;01mTrue\u001b[39;00m:\n\u001b[1;32m      2\u001b[0m     success,image \u001b[38;5;241m=\u001b[39mcap\u001b[38;5;241m.\u001b[39mread()\n\u001b[0;32m----> 3\u001b[0m     imageRGB \u001b[38;5;241m=\u001b[39m\u001b[43mcv2\u001b[49m\u001b[38;5;241;43m.\u001b[39;49m\u001b[43mcvtColor\u001b[49m\u001b[43m(\u001b[49m\u001b[43mimage\u001b[49m\u001b[43m,\u001b[49m\u001b[43mcv2\u001b[49m\u001b[38;5;241;43m.\u001b[39;49m\u001b[43mCOLOR_BGR2RGB\u001b[49m\u001b[43m)\u001b[49m\n\u001b[1;32m      4\u001b[0m     results\u001b[38;5;241m=\u001b[39mhands\u001b[38;5;241m.\u001b[39mprocess(imageRGB)\n\u001b[1;32m      5\u001b[0m     \u001b[38;5;28;01mif\u001b[39;00m results\u001b[38;5;241m.\u001b[39mmulti_hand_landmarks:\n",
      "\u001b[0;31merror\u001b[0m: OpenCV(4.7.0) /io/opencv/modules/imgproc/src/color.cpp:182: error: (-215:Assertion failed) !_src.empty() in function 'cvtColor'\n"
     ]
    }
   ],
   "source": [
    "while True:\n",
    "    success,image =cap.read()\n",
    "    imageRGB =cv2.cvtColor(image,cv2.COLOR_BGR2RGB)\n",
    "    results=hands.process(imageRGB)\n",
    "    if results.multi_hand_landmarks:\n",
    "        for handLms in results.multi_hand_landmarks:\n",
    "            for id,lm in enumerate(handLms.landmark):\n",
    "                h,w,c =image.shape\n",
    "                cx,cy =int(lm.x*w),int(lm.y*w)\n",
    "                if id==8:\n",
    "                    cv2.circle(image, (cx,cy),25,(255,0,255),cv2.FILLED)\n",
    "            mpDraw.draw_landmarks(image,handLms,mpHands.HAND_CONNECTIONS)\n",
    "            cv2.imshow(\"Output\",image)\n",
    "            cv2.waitKey(1)"
   ]
  },
  {
   "cell_type": "code",
   "execution_count": null,
   "id": "c9657f72",
   "metadata": {},
   "outputs": [],
   "source": []
  },
  {
   "cell_type": "code",
   "execution_count": null,
   "id": "dca3cd52",
   "metadata": {},
   "outputs": [],
   "source": []
  },
  {
   "cell_type": "code",
   "execution_count": null,
   "id": "649509ec",
   "metadata": {},
   "outputs": [],
   "source": []
  },
  {
   "cell_type": "code",
   "execution_count": null,
   "id": "0ff4edab",
   "metadata": {},
   "outputs": [],
   "source": []
  },
  {
   "cell_type": "code",
   "execution_count": null,
   "id": "f18fa6bd",
   "metadata": {},
   "outputs": [],
   "source": []
  },
  {
   "cell_type": "code",
   "execution_count": null,
   "id": "1b567ccc",
   "metadata": {},
   "outputs": [],
   "source": []
  }
 ],
 "metadata": {
  "kernelspec": {
   "display_name": "Python 3 (ipykernel)",
   "language": "python",
   "name": "python3"
  },
  "language_info": {
   "codemirror_mode": {
    "name": "ipython",
    "version": 3
   },
   "file_extension": ".py",
   "mimetype": "text/x-python",
   "name": "python",
   "nbconvert_exporter": "python",
   "pygments_lexer": "ipython3",
   "version": "3.10.7"
  }
 },
 "nbformat": 4,
 "nbformat_minor": 5
}
